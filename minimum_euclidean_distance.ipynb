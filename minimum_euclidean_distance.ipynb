{
 "cells": [
  {
   "cell_type": "code",
   "execution_count": 18,
   "id": "81a6eedb-d8b2-4872-83a5-6f5c5d775c8e",
   "metadata": {},
   "outputs": [
    {
     "name": "stdout",
     "output_type": "stream",
     "text": [
      "Mininum Euclidean Distance: 5.0990195135927845\n"
     ]
    }
   ],
   "source": [
    "import math\n",
    "\n",
    "points = [(2,3), (4,5), (5,7)]\n",
    "\n",
    "def euclideanDistance(x,y):\n",
    "    return math.sqrt((x-y)**2 + (x+y)**2)\n",
    "    \n",
    "distances = []\n",
    "\n",
    "for i,j in points:\n",
    "    res =euclideanDistance(i,j)\n",
    "    distances.append(res)\n",
    "\n",
    "print(f\"Mininum Euclidean Distance: {min(distances)}\")\n",
    "    \n"
   ]
  }
 ],
 "metadata": {
  "kernelspec": {
   "display_name": "Python 3 (ipykernel)",
   "language": "python",
   "name": "python3"
  },
  "language_info": {
   "codemirror_mode": {
    "name": "ipython",
    "version": 3
   },
   "file_extension": ".py",
   "mimetype": "text/x-python",
   "name": "python",
   "nbconvert_exporter": "python",
   "pygments_lexer": "ipython3",
   "version": "3.10.5"
  }
 },
 "nbformat": 4,
 "nbformat_minor": 5
}
